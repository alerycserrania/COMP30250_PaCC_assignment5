{
 "cells": [
  {
   "cell_type": "markdown",
   "metadata": {},
   "source": [
    "## Introduction"
   ]
  },
  {
   "cell_type": "markdown",
   "metadata": {},
   "source": [
    "The aim of this assignment is to create a Message Passing Interface (MPI) program to compute the product of two nxn dense matrix on p processors using the 2-dimensional parallel algorithm.\n",
    "\n",
    "The matrices are equally partitioned into squares of size $\\sqrt{p}*\\sqrt{p}$ and each processor has to compute the product of their assigned square."
   ]
  },
  {
   "cell_type": "code",
   "execution_count": 19,
   "metadata": {},
   "outputs": [],
   "source": [
    "import pandas as pd\n",
    "import matplotlib.pyplot as plt\n",
    "import matplotlib as mpl\n",
    "import numpy as np\n",
    "import matplotlib.gridspec as gridspec\n",
    "\n",
    "plt.style.use('ggplot')"
   ]
  },
  {
   "cell_type": "markdown",
   "metadata": {},
   "source": [
    "# Code explanation\n",
    "\n",
    "First, we initiate MPI computation and get the numbers of processors and ranks on all processors\n",
    "```c++\n",
    "// line 54\n",
    "MPI_Init(&argc, &argv);\n",
    "MPI_Comm_size(MPI_COMM_WORLD, &nb_procs);\n",
    "MPI_Comm_rank(MPI_COMM_WORLD, &rank);\n",
    "``` \n",
    "\n",
    "We compute the size of the partitions using the square root of the number of processors\n",
    "```c++\n",
    "// line 58\n",
    "m_part = m_size/(int)sqrt(nb_procs);\n",
    "```\n",
    "\n",
    "For each partition, we assign a row and column number using their rank. The top-left partition is assigned to process 0, top-right one is assigned to process `m_part` and bottom-right one to `nb_procs-1`. We then create one communicator per row and per column to group partitions from the same row and same columns.\n",
    "```c++\n",
    "// line 65 \n",
    "row = rank / (m_size/m_part);\n",
    "col = rank % (m_size/m_part);\n",
    "// line 75\n",
    "MPI_Comm_split(MPI_COMM_WORLD, row, rank, &rowcomm);\n",
    "MPI_Comm_split(MPI_COMM_WORLD, col, rank, &colcomm);\n",
    "```\n",
    "\n",
    "Using these communicators, we can gather partitions of the same row or the same columns into a single array `arows` for the full row from matrix A and `bcols` for the full column from matrix B.\n",
    "```c++\n",
    "// line 83\n",
    "MPI_Allgather(a, m_part * m_part, MPI_DOUBLE, arows, m_part * m_part, MPI_DOUBLE, rowcomm);\n",
    "MPI_Allgather(b, m_part * m_part, MPI_DOUBLE, bcols, m_part * m_part, MPI_DOUBLE, colcomm);\n",
    "```\n",
    "\n",
    "Finally, we can compute the partitioned square with `arows` and `bcols`, paying attention to how the data is organized inside:\n",
    "```c++\n",
    "// line 86\n",
    "for (i = 0; i < m_part; i++)\n",
    "{\n",
    "    for (j = 0; j < m_part; j++)\n",
    "    {\n",
    "        sum = 0.0;\n",
    "        ind1 = 0;\n",
    "        ind2 = 0;\n",
    "        for (k = 0; k < m_size; k++)\n",
    "        {\n",
    "            sum += arows[ind1+ind2+i*m_part] * bcols[m_part*k+j];\n",
    "            if (ind1 < m_part-1) {\n",
    "                ind1 += 1;\n",
    "            } else {\n",
    "                ind1 = 0;\n",
    "                ind2 += m_part*m_part;\n",
    "            }\n",
    "        }\n",
    "        c[i*m_part+j] = sum;\n",
    "    }\n",
    "}\n",
    "``` \n",
    "\n",
    "In order to print the full matrix, we can again use the `MPI_Gather` routine to gather all partitions of matrix C in a single structure within one processor (rank 0):\n",
    "```c++\n",
    "// line 114\n",
    "if (rank == 0) \n",
    "{\n",
    "    ...\n",
    "    all_c = malloc(m_size * m_size * sizeof(double));\n",
    "}\n",
    "\n",
    "...\n",
    "MPI_Gather(c, m_part * m_part, MPI_DOUBLE, all_c, m_part * m_part, MPI_DOUBLE, 0, MPI_COMM_WORLD);\n",
    "\n",
    "if (rank == 0)\n",
    "{\n",
    "    ...\n",
    "    printf(\"C =\\n\");\n",
    "    print_blocked_matrix(m_size, m_part, all_c);\n",
    "}\n",
    "```"
   ]
  },
  {
   "cell_type": "markdown",
   "metadata": {},
   "source": [
    "# Benchmarks of parallel and serial programs for difference matrix size\n",
    "\n",
    "## Benchmark of parallel programs"
   ]
  },
  {
   "cell_type": "code",
   "execution_count": 20,
   "metadata": {},
   "outputs": [
    {
     "data": {
      "text/html": [
       "<div>\n",
       "<style scoped>\n",
       "    .dataframe tbody tr th:only-of-type {\n",
       "        vertical-align: middle;\n",
       "    }\n",
       "\n",
       "    .dataframe tbody tr th {\n",
       "        vertical-align: top;\n",
       "    }\n",
       "\n",
       "    .dataframe thead th {\n",
       "        text-align: right;\n",
       "    }\n",
       "</style>\n",
       "<table border=\"1\" class=\"dataframe\">\n",
       "  <thead>\n",
       "    <tr style=\"text-align: right;\">\n",
       "      <th></th>\n",
       "      <th>matrix_size</th>\n",
       "      <th>nb_procs</th>\n",
       "      <th>timing</th>\n",
       "    </tr>\n",
       "  </thead>\n",
       "  <tbody>\n",
       "    <tr>\n",
       "      <th>0</th>\n",
       "      <td>200</td>\n",
       "      <td>16</td>\n",
       "      <td>0.753530</td>\n",
       "    </tr>\n",
       "    <tr>\n",
       "      <th>1</th>\n",
       "      <td>400</td>\n",
       "      <td>16</td>\n",
       "      <td>2.424793</td>\n",
       "    </tr>\n",
       "    <tr>\n",
       "      <th>2</th>\n",
       "      <td>600</td>\n",
       "      <td>16</td>\n",
       "      <td>8.808398</td>\n",
       "    </tr>\n",
       "    <tr>\n",
       "      <th>3</th>\n",
       "      <td>800</td>\n",
       "      <td>16</td>\n",
       "      <td>17.239664</td>\n",
       "    </tr>\n",
       "    <tr>\n",
       "      <th>4</th>\n",
       "      <td>1000</td>\n",
       "      <td>16</td>\n",
       "      <td>64.099222</td>\n",
       "    </tr>\n",
       "    <tr>\n",
       "      <th>5</th>\n",
       "      <td>1200</td>\n",
       "      <td>16</td>\n",
       "      <td>83.059078</td>\n",
       "    </tr>\n",
       "    <tr>\n",
       "      <th>6</th>\n",
       "      <td>1400</td>\n",
       "      <td>16</td>\n",
       "      <td>231.324885</td>\n",
       "    </tr>\n",
       "    <tr>\n",
       "      <th>7</th>\n",
       "      <td>1600</td>\n",
       "      <td>16</td>\n",
       "      <td>358.354298</td>\n",
       "    </tr>\n",
       "    <tr>\n",
       "      <th>8</th>\n",
       "      <td>1800</td>\n",
       "      <td>16</td>\n",
       "      <td>624.600948</td>\n",
       "    </tr>\n",
       "  </tbody>\n",
       "</table>\n",
       "</div>"
      ],
      "text/plain": [
       "   matrix_size  nb_procs      timing\n",
       "0          200        16    0.753530\n",
       "1          400        16    2.424793\n",
       "2          600        16    8.808398\n",
       "3          800        16   17.239664\n",
       "4         1000        16   64.099222\n",
       "5         1200        16   83.059078\n",
       "6         1400        16  231.324885\n",
       "7         1600        16  358.354298\n",
       "8         1800        16  624.600948"
      ]
     },
     "execution_count": 20,
     "metadata": {},
     "output_type": "execute_result"
    }
   ],
   "source": [
    "parallel = pd.read_csv(\"data_parallel.csv\")\n",
    "parallel"
   ]
  },
  {
   "cell_type": "markdown",
   "metadata": {},
   "source": [
    "## Benchmark of serial programs"
   ]
  },
  {
   "cell_type": "code",
   "execution_count": 21,
   "metadata": {},
   "outputs": [
    {
     "data": {
      "text/html": [
       "<div>\n",
       "<style scoped>\n",
       "    .dataframe tbody tr th:only-of-type {\n",
       "        vertical-align: middle;\n",
       "    }\n",
       "\n",
       "    .dataframe tbody tr th {\n",
       "        vertical-align: top;\n",
       "    }\n",
       "\n",
       "    .dataframe thead th {\n",
       "        text-align: right;\n",
       "    }\n",
       "</style>\n",
       "<table border=\"1\" class=\"dataframe\">\n",
       "  <thead>\n",
       "    <tr style=\"text-align: right;\">\n",
       "      <th></th>\n",
       "      <th>matrix_size</th>\n",
       "      <th>timing</th>\n",
       "    </tr>\n",
       "  </thead>\n",
       "  <tbody>\n",
       "    <tr>\n",
       "      <th>0</th>\n",
       "      <td>200</td>\n",
       "      <td>0.163096</td>\n",
       "    </tr>\n",
       "    <tr>\n",
       "      <th>1</th>\n",
       "      <td>400</td>\n",
       "      <td>1.656834</td>\n",
       "    </tr>\n",
       "    <tr>\n",
       "      <th>2</th>\n",
       "      <td>600</td>\n",
       "      <td>8.548769</td>\n",
       "    </tr>\n",
       "    <tr>\n",
       "      <th>3</th>\n",
       "      <td>800</td>\n",
       "      <td>23.771984</td>\n",
       "    </tr>\n",
       "    <tr>\n",
       "      <th>4</th>\n",
       "      <td>1000</td>\n",
       "      <td>69.186296</td>\n",
       "    </tr>\n",
       "    <tr>\n",
       "      <th>5</th>\n",
       "      <td>1200</td>\n",
       "      <td>158.167581</td>\n",
       "    </tr>\n",
       "    <tr>\n",
       "      <th>6</th>\n",
       "      <td>1400</td>\n",
       "      <td>283.427194</td>\n",
       "    </tr>\n",
       "    <tr>\n",
       "      <th>7</th>\n",
       "      <td>1600</td>\n",
       "      <td>473.548842</td>\n",
       "    </tr>\n",
       "    <tr>\n",
       "      <th>8</th>\n",
       "      <td>1800</td>\n",
       "      <td>761.952090</td>\n",
       "    </tr>\n",
       "  </tbody>\n",
       "</table>\n",
       "</div>"
      ],
      "text/plain": [
       "   matrix_size      timing\n",
       "0          200    0.163096\n",
       "1          400    1.656834\n",
       "2          600    8.548769\n",
       "3          800   23.771984\n",
       "4         1000   69.186296\n",
       "5         1200  158.167581\n",
       "6         1400  283.427194\n",
       "7         1600  473.548842\n",
       "8         1800  761.952090"
      ]
     },
     "execution_count": 21,
     "metadata": {},
     "output_type": "execute_result"
    }
   ],
   "source": [
    "serial = pd.read_csv(\"data_serial.csv\")\n",
    "serial"
   ]
  },
  {
   "cell_type": "markdown",
   "metadata": {},
   "source": [
    "# Dependence of the execution time of the program on the matrix size n"
   ]
  },
  {
   "cell_type": "code",
   "execution_count": 22,
   "metadata": {},
   "outputs": [
    {
     "data": {
      "text/plain": [
       "Text(0.5, 1.0, 'Execution time of parallel programs in function of the matrix size (p = 16)')"
      ]
     },
     "execution_count": 22,
     "metadata": {},
     "output_type": "execute_result"
    },
    {
     "data": {
      "image/png": "[encoded data removed]",
      "text/plain": [
       "<Figure size 720x360 with 1 Axes>"
      ]
     },
     "metadata": {},
     "output_type": "display_data"
    }
   ],
   "source": [
    "fig = plt.figure(constrained_layout=True, figsize=(10, 5))\n",
    "ax = fig.add_subplot(111)\n",
    "parallel.plot.line(x='matrix_size', y='timing', ax=ax)\n",
    "ax.set_xlabel('matrix size')\n",
    "ax.set_ylabel('timing (sec)')\n",
    "ax.set_title('Execution time of parallel programs in function of the matrix size (p = 16)')"
   ]
  },
  {
   "cell_type": "markdown",
   "metadata": {},
   "source": [
    "# Speedup over a serial counterpart of the program\n",
    "\n",
    "Speedup is calculated as follows: \n",
    "$$S(m) = \\frac{T_{serial}(m)}{T_{parallel}(m)}$$ \n",
    "where $m$ is matrix size"
   ]
  },
  {
   "cell_type": "code",
   "execution_count": 23,
   "metadata": {},
   "outputs": [
    {
     "data": {
      "text/html": [
       "<div>\n",
       "<style scoped>\n",
       "    .dataframe tbody tr th:only-of-type {\n",
       "        vertical-align: middle;\n",
       "    }\n",
       "\n",
       "    .dataframe tbody tr th {\n",
       "        vertical-align: top;\n",
       "    }\n",
       "\n",
       "    .dataframe thead th {\n",
       "        text-align: right;\n",
       "    }\n",
       "</style>\n",
       "<table border=\"1\" class=\"dataframe\">\n",
       "  <thead>\n",
       "    <tr style=\"text-align: right;\">\n",
       "      <th></th>\n",
       "      <th>matrix_size</th>\n",
       "      <th>nb_procs</th>\n",
       "      <th>timing</th>\n",
       "      <th>speedup</th>\n",
       "    </tr>\n",
       "  </thead>\n",
       "  <tbody>\n",
       "    <tr>\n",
       "      <th>0</th>\n",
       "      <td>200</td>\n",
       "      <td>16</td>\n",
       "      <td>0.753530</td>\n",
       "      <td>0.216442</td>\n",
       "    </tr>\n",
       "    <tr>\n",
       "      <th>1</th>\n",
       "      <td>400</td>\n",
       "      <td>16</td>\n",
       "      <td>2.424793</td>\n",
       "      <td>0.683289</td>\n",
       "    </tr>\n",
       "    <tr>\n",
       "      <th>2</th>\n",
       "      <td>600</td>\n",
       "      <td>16</td>\n",
       "      <td>8.808398</td>\n",
       "      <td>0.970525</td>\n",
       "    </tr>\n",
       "    <tr>\n",
       "      <th>3</th>\n",
       "      <td>800</td>\n",
       "      <td>16</td>\n",
       "      <td>17.239664</td>\n",
       "      <td>1.378912</td>\n",
       "    </tr>\n",
       "    <tr>\n",
       "      <th>4</th>\n",
       "      <td>1000</td>\n",
       "      <td>16</td>\n",
       "      <td>64.099222</td>\n",
       "      <td>1.079363</td>\n",
       "    </tr>\n",
       "    <tr>\n",
       "      <th>5</th>\n",
       "      <td>1200</td>\n",
       "      <td>16</td>\n",
       "      <td>83.059078</td>\n",
       "      <td>1.904278</td>\n",
       "    </tr>\n",
       "    <tr>\n",
       "      <th>6</th>\n",
       "      <td>1400</td>\n",
       "      <td>16</td>\n",
       "      <td>231.324885</td>\n",
       "      <td>1.225234</td>\n",
       "    </tr>\n",
       "    <tr>\n",
       "      <th>7</th>\n",
       "      <td>1600</td>\n",
       "      <td>16</td>\n",
       "      <td>358.354298</td>\n",
       "      <td>1.321454</td>\n",
       "    </tr>\n",
       "    <tr>\n",
       "      <th>8</th>\n",
       "      <td>1800</td>\n",
       "      <td>16</td>\n",
       "      <td>624.600948</td>\n",
       "      <td>1.219902</td>\n",
       "    </tr>\n",
       "  </tbody>\n",
       "</table>\n",
       "</div>"
      ],
      "text/plain": [
       "   matrix_size  nb_procs      timing   speedup\n",
       "0          200        16    0.753530  0.216442\n",
       "1          400        16    2.424793  0.683289\n",
       "2          600        16    8.808398  0.970525\n",
       "3          800        16   17.239664  1.378912\n",
       "4         1000        16   64.099222  1.079363\n",
       "5         1200        16   83.059078  1.904278\n",
       "6         1400        16  231.324885  1.225234\n",
       "7         1600        16  358.354298  1.321454\n",
       "8         1800        16  624.600948  1.219902"
      ]
     },
     "execution_count": 23,
     "metadata": {},
     "output_type": "execute_result"
    }
   ],
   "source": [
    "parallel['speedup'] = serial['timing'] / parallel['timing']\n",
    "parallel"
   ]
  },
  {
   "cell_type": "code",
   "execution_count": 24,
   "metadata": {},
   "outputs": [
    {
     "data": {
      "text/plain": [
       "Text(0.5, 1.0, 'Speedup of parallel programs over their serial counterparts')"
      ]
     },
     "execution_count": 24,
     "metadata": {},
     "output_type": "execute_result"
    },
    {
     "data": {
      "image/png": "[encoded data removed]",
      "text/plain": [
       "<Figure size 720x360 with 1 Axes>"
      ]
     },
     "metadata": {},
     "output_type": "display_data"
    }
   ],
   "source": [
    "fig = plt.figure(constrained_layout=True, figsize=(10, 5))\n",
    "ax = fig.add_subplot(111)\n",
    "parallel.plot.line(x='matrix_size', y='speedup', ax=ax)\n",
    "ax.set_xlabel('matrix size')\n",
    "ax.set_ylabel('speedup')\n",
    "ax.set_title('Speedup of parallel programs over their serial counterparts')"
   ]
  },
  {
   "cell_type": "markdown",
   "metadata": {},
   "source": [
    "The results show that we start to have a significant speedup for matrix of size n > 600 and the speedup stabilises around 1.5 for bigger matrices. \n",
    "\n",
    "The parallelisation is inefficient for small matrices as it reduces the processing speed. It is also not as efficient x as when we use a parallel library such as OpenMP for bigger matrix where speedup would reach about 4 or 5. This difference in performance may be due to communication and message passing overhead since processes have to wait for other processes to complete. \n",
    "\n",
    "To improve the performance of the parallel program, we may consider duplicating locally needed rows and columns for the computation of a partition instead of using `MPI_Allgather` to reduce communication time."
   ]
  }
 ],
 "metadata": {
  "interpreter": {
   "hash": "33fa5f6e416b87f8609131718fa65b71d8145a1257be68be3d404c8842433359"
  },
  "kernelspec": {
   "display_name": "Python 3.8.8 64-bit ('base': conda)",
   "name": "python3"
  },
  "language_info": {
   "codemirror_mode": {
    "name": "ipython",
    "version": 3
   },
   "file_extension": ".py",
   "mimetype": "text/x-python",
   "name": "python",
   "nbconvert_exporter": "python",
   "pygments_lexer": "ipython3",
   "version": "3.8.8"
  },
  "orig_nbformat": 4
 },
 "nbformat": 4,
 "nbformat_minor": 2
}
